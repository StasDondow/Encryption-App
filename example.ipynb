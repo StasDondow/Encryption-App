{
 "cells": [
  {
   "cell_type": "code",
   "execution_count": 1,
   "id": "00983176",
   "metadata": {},
   "outputs": [],
   "source": [
    "from file_encryption import *"
   ]
  },
  {
   "cell_type": "code",
   "execution_count": 2,
   "id": "7f6078f2",
   "metadata": {},
   "outputs": [
    {
     "name": "stdout",
     "output_type": "stream",
     "text": [
      "Key successfully generated!\n"
     ]
    },
    {
     "data": {
      "text/plain": [
       "b'ipV8\\x02\\xa6/E\\x1c\\xe9\\x9e4\\xb2g\\xbc\\xdd'"
      ]
     },
     "execution_count": 2,
     "metadata": {},
     "output_type": "execute_result"
    }
   ],
   "source": [
    "generate_key(\"encryption_files/key1.txt\")\n",
    "read_file(\"encryption_files/key1.txt\")"
   ]
  },
  {
   "cell_type": "code",
   "execution_count": 3,
   "id": "7deb860f",
   "metadata": {},
   "outputs": [
    {
     "data": {
      "text/plain": [
       "b'1 2 3\\r\\nabc\\r\\n\\r\\n hello   world\\r\\n\\r\\n'"
      ]
     },
     "execution_count": 3,
     "metadata": {},
     "output_type": "execute_result"
    }
   ],
   "source": [
    "read_file(\"encryption_files/plaintext.txt\")"
   ]
  },
  {
   "cell_type": "code",
   "execution_count": 4,
   "id": "542345b5",
   "metadata": {},
   "outputs": [
    {
     "name": "stdout",
     "output_type": "stream",
     "text": [
      "File successfully encrypted!\n"
     ]
    },
    {
     "data": {
      "text/plain": [
       "b\"\\xa4T\\xfeu\\xa8\\x84)\\xfbNb\\x0f'$1\\xb2\\x83\""
      ]
     },
     "execution_count": 4,
     "metadata": {},
     "output_type": "execute_result"
    }
   ],
   "source": [
    "encrypt_file(\"encryption_files/plaintext.txt\", \"encryption_files/key1.txt\")\n",
    "read_file(\"encryption_files/plaintext_encrypted.txt\")"
   ]
  },
  {
   "cell_type": "code",
   "execution_count": 5,
   "id": "ef95c2d4",
   "metadata": {},
   "outputs": [
    {
     "name": "stdout",
     "output_type": "stream",
     "text": [
      "File successfully decrypted!\n"
     ]
    },
    {
     "data": {
      "text/plain": [
       "b'1 2 3\\r\\nabc\\r\\n\\r\\n h'"
      ]
     },
     "execution_count": 5,
     "metadata": {},
     "output_type": "execute_result"
    }
   ],
   "source": [
    "decrypt_file(\"encryption_files/plaintext_encrypted.txt\", \"encryption_files/key1.txt\")\n",
    "read_file(\"encryption_files/plaintext_encrypted_decrypted.txt\")"
   ]
  },
  {
   "cell_type": "code",
   "execution_count": 6,
   "id": "eb56d978",
   "metadata": {},
   "outputs": [
    {
     "name": "stdout",
     "output_type": "stream",
     "text": [
      "\n",
      "OPTIONS:\n",
      "    1 - generate key\n",
      "    2 - enrypt file\n",
      "    3 - decrypt_file\n",
      "    4 - exit\n",
      "\n",
      "What to do next? 1\n",
      "Enter filename: encryption_files/key2.txt\n",
      "Key successfully generated!\n",
      "\n",
      "What to do next? 2\n",
      "Enter plaintext file full path: encryption_files/plaintext.txt\n",
      "Enter key file full path: encryption_files/key2.txt\n",
      "File successfully encrypted!\n",
      "\n",
      "What to do next? 3\n",
      "Enter ciphertext file full path: encryption_files/plaintext_encrypted.txt\n",
      "Enter key file full path: encryption_files/key2.txt\n",
      "File successfully decrypted!\n",
      "\n",
      "What to do next? 4\n",
      "Goodbye!\n"
     ]
    }
   ],
   "source": [
    "# do the same, but using a dialogue with the user\n",
    "start_dialogue()"
   ]
  },
  {
   "cell_type": "code",
   "execution_count": null,
   "id": "9c2fd111",
   "metadata": {},
   "outputs": [],
   "source": []
  }
 ],
 "metadata": {
  "kernelspec": {
   "display_name": "Python 3 (ipykernel)",
   "language": "python",
   "name": "python3"
  },
  "language_info": {
   "codemirror_mode": {
    "name": "ipython",
    "version": 3
   },
   "file_extension": ".py",
   "mimetype": "text/x-python",
   "name": "python",
   "nbconvert_exporter": "python",
   "pygments_lexer": "ipython3",
   "version": "3.9.13"
  }
 },
 "nbformat": 4,
 "nbformat_minor": 5
}
